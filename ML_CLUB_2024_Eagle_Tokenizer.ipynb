{
  "nbformat": 4,
  "nbformat_minor": 0,
  "metadata": {
    "colab": {
      "provenance": [],
      "authorship_tag": "ABX9TyM7G8s+zZm/ytjOa1a4IncU",
      "include_colab_link": true
    },
    "kernelspec": {
      "name": "python3",
      "display_name": "Python 3"
    },
    "language_info": {
      "name": "python"
    }
  },
  "cells": [
    {
      "cell_type": "markdown",
      "metadata": {
        "id": "view-in-github",
        "colab_type": "text"
      },
      "source": [
        "<a href=\"https://colab.research.google.com/github/msamwelmollel/ML-CLUB-2024-Eagle-Labs/blob/main/ML_CLUB_2024_Eagle_Tokenizer.ipynb\" target=\"_parent\"><img src=\"https://colab.research.google.com/assets/colab-badge.svg\" alt=\"Open In Colab\"/></a>"
      ]
    },
    {
      "cell_type": "code",
      "execution_count": 1,
      "metadata": {
        "id": "NY0UMk9fPs45"
      },
      "outputs": [],
      "source": [
        "import re\n",
        "from itertools import islice\n",
        "from transformers import AutoTokenizer"
      ]
    },
    {
      "cell_type": "code",
      "source": [
        "# @title Example text\n",
        "\n",
        "text = \"\"\"\n",
        "PEP 8: Style Guide for Python Code\n",
        "\n",
        "This PEP proposes a style guide for writing Python code. The aim is to improve the readability of Python code by adopting a consistent style across the community.\n",
        "\n",
        "Use 4 spaces per indentation level.\n",
        "\n",
        "Limit all lines to a maximum of 79 characters.\n",
        "\n",
        "Imports should usually be on separate lines.\n",
        "\"\"\""
      ],
      "metadata": {
        "id": "HaxB3EuFP8uZ"
      },
      "execution_count": 2,
      "outputs": []
    },
    {
      "cell_type": "code",
      "source": [
        "print(text)"
      ],
      "metadata": {
        "colab": {
          "base_uri": "https://localhost:8080/"
        },
        "id": "K_H5XAitQG1J",
        "outputId": "5122cada-41d7-4672-dd40-59f7e019fa69"
      },
      "execution_count": 4,
      "outputs": [
        {
          "output_type": "stream",
          "name": "stdout",
          "text": [
            "\n",
            "PEP 8: Style Guide for Python Code\n",
            "\n",
            "This PEP proposes a style guide for writing Python code. The aim is to improve the readability of Python code by adopting a consistent style across the community.\n",
            "\n",
            "Use 4 spaces per indentation level.\n",
            "\n",
            "Limit all lines to a maximum of 79 characters.\n",
            "\n",
            "Imports should usually be on separate lines.\n",
            "\n"
          ]
        }
      ]
    }
  ]
}