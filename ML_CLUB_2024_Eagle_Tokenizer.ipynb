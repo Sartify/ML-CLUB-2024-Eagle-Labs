{
  "nbformat": 4,
  "nbformat_minor": 0,
  "metadata": {
    "colab": {
      "provenance": [],
      "authorship_tag": "ABX9TyNNhJZFQ2kYvj7ggrIOjLvh",
      "include_colab_link": true
    },
    "kernelspec": {
      "name": "python3",
      "display_name": "Python 3"
    },
    "language_info": {
      "name": "python"
    }
  },
  "cells": [
    {
      "cell_type": "markdown",
      "metadata": {
        "id": "view-in-github",
        "colab_type": "text"
      },
      "source": [
        "<a href=\"https://colab.research.google.com/github/msamwelmollel/ML-CLUB-2024-Eagle-Labs/blob/main/ML_CLUB_2024_Eagle_Tokenizer.ipynb\" target=\"_parent\"><img src=\"https://colab.research.google.com/assets/colab-badge.svg\" alt=\"Open In Colab\"/></a>"
      ]
    },
    {
      "cell_type": "code",
      "source": [
        "import re\n",
        "from transformers import AutoTokenizer, AutoModel\n",
        "import torch\n",
        "from sklearn.metrics.pairwise import cosine_similarity\n",
        "import numpy as np\n",
        "\n"
      ],
      "metadata": {
        "id": "bEKZEVVeSim4"
      },
      "execution_count": 86,
      "outputs": []
    },
    {
      "cell_type": "code",
      "source": [
        "# Example text with Python code\n",
        "text = \"\"\"\n",
        "PEP 8: Style Guide for Python Code\n",
        "\n",
        "This PEP describes a style guide for Python code. Its goal is to improve code readability and consistency across the Python community. Here are some key points:\n",
        "\n",
        "1. Use 4 spaces per indentation level.\n",
        "\n",
        "2. Limit all lines to a maximum of 79 characters.\n",
        "\n",
        "3. Imports should usually be on separate lines:\n",
        "\n",
        "import os\n",
        "import sys\n",
        "\n",
        "4. Surround top-level function and class definitions with two blank lines.\n",
        "\n",
        "def example_function():\n",
        "    '''This is a docstring.'''\n",
        "    return None\n",
        "\n",
        "class ExampleClass:\n",
        "    '''This is a class docstring.'''\n",
        "\n",
        "    def __init__(self, value):\n",
        "        self.value = value\n",
        "\n",
        "    def get_value(self):\n",
        "        return self.value\n",
        "\n",
        "5. Use inline comments sparingly:\n",
        "\n",
        "x = x + 1  # Compensate for border\n",
        "\n",
        "6. Use docstrings for all public modules, functions, classes, and methods.\n",
        "\n",
        "Remember, code is read much more often than it is written. Clarity and readability are paramount!\n",
        "\"\"\""
      ],
      "metadata": {
        "id": "zbb1Mg9TSkEa"
      },
      "execution_count": 87,
      "outputs": []
    },
    {
      "cell_type": "code",
      "source": [
        "# print(text)"
      ],
      "metadata": {
        "id": "3QQ665ytSrQR"
      },
      "execution_count": 88,
      "outputs": []
    },
    {
      "cell_type": "code",
      "source": [
        "# Tokenizer initialization (using a BERT tokenizer as an example)\n",
        "try:\n",
        "    tokenizer = AutoTokenizer.from_pretrained(\"bert-base-uncased\")\n",
        "    model = AutoModel.from_pretrained(\"bert-base-uncased\")\n",
        "except Exception as e:\n",
        "    print(f\"Error loading tokenizer or model: {e}\")\n",
        "    exit(1)"
      ],
      "metadata": {
        "id": "tm7Ay05fTgdo"
      },
      "execution_count": 89,
      "outputs": []
    },
    {
      "cell_type": "code",
      "source": [
        "# Helper function for tokenizing text\n",
        "def tokenize(text):\n",
        "    return tokenizer.tokenize(text)"
      ],
      "metadata": {
        "id": "sksXByOFTklZ"
      },
      "execution_count": 90,
      "outputs": []
    },
    {
      "cell_type": "code",
      "source": [
        "# Helper function to convert token list to string\n",
        "def tokens_to_string(tokens):\n",
        "    return tokenizer.convert_tokens_to_string(tokens)"
      ],
      "metadata": {
        "id": "gYwIzQ_sTmOw"
      },
      "execution_count": 91,
      "outputs": []
    },
    {
      "cell_type": "code",
      "source": [
        "# Helper function to generate embeddings\n",
        "def get_embedding(text):\n",
        "    inputs = tokenizer(text, return_tensors=\"pt\", padding=True, truncation=True, max_length=512)\n",
        "    with torch.no_grad():\n",
        "        outputs = model(**inputs)\n",
        "    return outputs.last_hidden_state.mean(dim=1).squeeze().numpy()"
      ],
      "metadata": {
        "id": "t3bXnN_TVeHJ"
      },
      "execution_count": 92,
      "outputs": []
    },
    {
      "cell_type": "code",
      "source": [
        "# Fixed token without overlap\n",
        "def fixed_token_without_overlap(text, chunk_size):\n",
        "    tokens = tokenize(text)\n",
        "    return [tokens[i:i + chunk_size] for i in range(0, len(tokens), chunk_size)]"
      ],
      "metadata": {
        "id": "B6I1NipYTpuZ"
      },
      "execution_count": 93,
      "outputs": []
    },
    {
      "cell_type": "code",
      "source": [
        "# Fixed token with overlap\n",
        "def fixed_token_with_overlap(text, chunk_size, overlap):\n",
        "    tokens = tokenize(text)\n",
        "    return [tokens[i:i + chunk_size] for i in range(0, len(tokens), chunk_size - overlap)]"
      ],
      "metadata": {
        "id": "ctJ5YrhyTrlJ"
      },
      "execution_count": 94,
      "outputs": []
    },
    {
      "cell_type": "code",
      "source": [
        "# Recursive with overlap\n",
        "def recursive_with_overlap(text, chunk_size, overlap):\n",
        "    paragraphs = text.split('\\n\\n')\n",
        "    chunks = []\n",
        "    for paragraph in paragraphs:\n",
        "        sentences = re.split(r'(?<=[.!?]) +', paragraph)\n",
        "        paragraph_tokens = []\n",
        "        for sentence in sentences:\n",
        "            sentence_tokens = tokenize(sentence)\n",
        "            paragraph_tokens.extend(sentence_tokens)\n",
        "            if len(paragraph_tokens) >= chunk_size:\n",
        "                chunks.append(paragraph_tokens[:chunk_size])\n",
        "                paragraph_tokens = paragraph_tokens[chunk_size - overlap:]\n",
        "        if paragraph_tokens:\n",
        "            chunks.append(paragraph_tokens)\n",
        "    return chunks"
      ],
      "metadata": {
        "id": "U9Uv88hsTtzp"
      },
      "execution_count": 95,
      "outputs": []
    },
    {
      "cell_type": "code",
      "source": [
        "# Recursive Python splitter with overlap\n",
        "def recursive_python_splitter_with_overlap(text, chunk_size, overlap):\n",
        "    code_splits = re.split(r'(\\nclass|\\ndef|\\n)', text)\n",
        "    chunks = []\n",
        "    current_chunk = []\n",
        "    for part in code_splits:\n",
        "        tokens = tokenize(part)\n",
        "        current_chunk.extend(tokens)\n",
        "        if len(current_chunk) >= chunk_size:\n",
        "            chunks.append(current_chunk[:chunk_size])\n",
        "            current_chunk = current_chunk[chunk_size - overlap:]\n",
        "    if current_chunk:\n",
        "        chunks.append(current_chunk)\n",
        "    return chunks"
      ],
      "metadata": {
        "id": "LYTGfbJsTv0Z"
      },
      "execution_count": 96,
      "outputs": []
    },
    {
      "cell_type": "code",
      "source": [
        "# Semantic chunking\n",
        "def semantic_chunking(text, similarity_threshold=0.8):\n",
        "    sentences = re.split(r'(?<=[.!?]) +', text)\n",
        "    sentence_groups = [' '.join(sentences[i:i+3]) for i in range(0, len(sentences), 3)]\n",
        "\n",
        "    embeddings = [get_embedding(group) for group in sentence_groups]\n",
        "\n",
        "    chunks = []\n",
        "    current_chunk = []\n",
        "\n",
        "    for i, group in enumerate(sentence_groups):\n",
        "        if not current_chunk:\n",
        "            current_chunk.append(group)\n",
        "        else:\n",
        "            similarity = cosine_similarity([embeddings[i]], [np.mean(embeddings[max(0, i-3):i], axis=0)])[0][0]\n",
        "            if similarity >= similarity_threshold:\n",
        "                current_chunk.append(group)\n",
        "            else:\n",
        "                chunks.append(' '.join(current_chunk))\n",
        "                current_chunk = [group]\n",
        "\n",
        "    if current_chunk:\n",
        "        chunks.append(' '.join(current_chunk))\n",
        "\n",
        "    return chunks\n"
      ],
      "metadata": {
        "id": "691YuLHXTyDY"
      },
      "execution_count": 97,
      "outputs": []
    },
    {
      "cell_type": "code",
      "source": [
        "# Example usage\n",
        "chunk_size = 50\n",
        "overlap = 20"
      ],
      "metadata": {
        "id": "1KRK-3kBT0O4"
      },
      "execution_count": 98,
      "outputs": []
    },
    {
      "cell_type": "code",
      "source": [
        "print(\"Fixed Token without Overlap:\")\n",
        "print(\"Number of chunks\", len(fixed_token_without_overlap(text, chunk_size)))\n",
        "print(fixed_token_without_overlap(text, chunk_size))\n",
        "\n",
        "print(\"\\nFixed Token with Overlap:\")\n",
        "print(\"Number of chunks\", len(fixed_token_with_overlap(text, chunk_size, overlap)))\n",
        "print(fixed_token_with_overlap(text, chunk_size, overlap))\n",
        "\n",
        "print(\"\\nRecursive with Overlap:\")\n",
        "print(\"Number of chunks\", len(recursive_with_overlap(text, chunk_size, overlap)))\n",
        "print(recursive_with_overlap(text, chunk_size, overlap))\n",
        "\n",
        "print(\"\\nRecursive Python Splitter with Overlap:\")\n",
        "print(\"Number of chunks\", len(recursive_python_splitter_with_overlap(text, chunk_size, overlap)))\n",
        "print(recursive_python_splitter_with_overlap(text, chunk_size, overlap))"
      ],
      "metadata": {
        "colab": {
          "base_uri": "https://localhost:8080/"
        },
        "id": "wANlGg_2aREv",
        "outputId": "a958b56f-8a8a-45d3-8b1d-5bafed95d822"
      },
      "execution_count": 119,
      "outputs": [
        {
          "output_type": "stream",
          "name": "stdout",
          "text": [
            "Fixed Token without Overlap:\n",
            "Number of chunks 5\n",
            "[['pep', '8', ':', 'style', 'guide', 'for', 'python', 'code', 'this', 'pep', 'describes', 'a', 'style', 'guide', 'for', 'python', 'code', '.', 'its', 'goal', 'is', 'to', 'improve', 'code', 'read', '##ability', 'and', 'consistency', 'across', 'the', 'python', 'community', '.', 'here', 'are', 'some', 'key', 'points', ':', '1', '.', 'use', '4', 'spaces', 'per', 'ind', '##entation', 'level', '.', '2'], ['.', 'limit', 'all', 'lines', 'to', 'a', 'maximum', 'of', '79', 'characters', '.', '3', '.', 'imports', 'should', 'usually', 'be', 'on', 'separate', 'lines', ':', 'import', 'os', 'import', 'sy', '##s', '4', '.', 'surround', 'top', '-', 'level', 'function', 'and', 'class', 'definitions', 'with', 'two', 'blank', 'lines', '.', 'def', 'example', '_', 'function', '(', ')', ':', \"'\", \"'\"], [\"'\", 'this', 'is', 'a', 'doc', '##st', '##ring', '.', \"'\", \"'\", \"'\", 'return', 'none', 'class', 'example', '##class', ':', \"'\", \"'\", \"'\", 'this', 'is', 'a', 'class', 'doc', '##st', '##ring', '.', \"'\", \"'\", \"'\", 'def', '_', '_', 'in', '##it', '_', '_', '(', 'self', ',', 'value', ')', ':', 'self', '.', 'value', '=', 'value', 'def'], ['get', '_', 'value', '(', 'self', ')', ':', 'return', 'self', '.', 'value', '5', '.', 'use', 'inline', 'comments', 'spa', '##ring', '##ly', ':', 'x', '=', 'x', '+', '1', '#', 'compensate', 'for', 'border', '6', '.', 'use', 'doc', '##st', '##ring', '##s', 'for', 'all', 'public', 'modules', ',', 'functions', ',', 'classes', ',', 'and', 'methods', '.', 'remember', ','], ['code', 'is', 'read', 'much', 'more', 'often', 'than', 'it', 'is', 'written', '.', 'clarity', 'and', 'read', '##ability', 'are', 'paramount', '!']]\n",
            "\n",
            "Fixed Token with Overlap:\n",
            "Number of chunks 8\n",
            "[['pep', '8', ':', 'style', 'guide', 'for', 'python', 'code', 'this', 'pep', 'describes', 'a', 'style', 'guide', 'for', 'python', 'code', '.', 'its', 'goal', 'is', 'to', 'improve', 'code', 'read', '##ability', 'and', 'consistency', 'across', 'the', 'python', 'community', '.', 'here', 'are', 'some', 'key', 'points', ':', '1', '.', 'use', '4', 'spaces', 'per', 'ind', '##entation', 'level', '.', '2'], ['python', 'community', '.', 'here', 'are', 'some', 'key', 'points', ':', '1', '.', 'use', '4', 'spaces', 'per', 'ind', '##entation', 'level', '.', '2', '.', 'limit', 'all', 'lines', 'to', 'a', 'maximum', 'of', '79', 'characters', '.', '3', '.', 'imports', 'should', 'usually', 'be', 'on', 'separate', 'lines', ':', 'import', 'os', 'import', 'sy', '##s', '4', '.', 'surround', 'top'], ['.', '3', '.', 'imports', 'should', 'usually', 'be', 'on', 'separate', 'lines', ':', 'import', 'os', 'import', 'sy', '##s', '4', '.', 'surround', 'top', '-', 'level', 'function', 'and', 'class', 'definitions', 'with', 'two', 'blank', 'lines', '.', 'def', 'example', '_', 'function', '(', ')', ':', \"'\", \"'\", \"'\", 'this', 'is', 'a', 'doc', '##st', '##ring', '.', \"'\", \"'\"], ['.', 'def', 'example', '_', 'function', '(', ')', ':', \"'\", \"'\", \"'\", 'this', 'is', 'a', 'doc', '##st', '##ring', '.', \"'\", \"'\", \"'\", 'return', 'none', 'class', 'example', '##class', ':', \"'\", \"'\", \"'\", 'this', 'is', 'a', 'class', 'doc', '##st', '##ring', '.', \"'\", \"'\", \"'\", 'def', '_', '_', 'in', '##it', '_', '_', '(', 'self'], ['this', 'is', 'a', 'class', 'doc', '##st', '##ring', '.', \"'\", \"'\", \"'\", 'def', '_', '_', 'in', '##it', '_', '_', '(', 'self', ',', 'value', ')', ':', 'self', '.', 'value', '=', 'value', 'def', 'get', '_', 'value', '(', 'self', ')', ':', 'return', 'self', '.', 'value', '5', '.', 'use', 'inline', 'comments', 'spa', '##ring', '##ly', ':'], ['get', '_', 'value', '(', 'self', ')', ':', 'return', 'self', '.', 'value', '5', '.', 'use', 'inline', 'comments', 'spa', '##ring', '##ly', ':', 'x', '=', 'x', '+', '1', '#', 'compensate', 'for', 'border', '6', '.', 'use', 'doc', '##st', '##ring', '##s', 'for', 'all', 'public', 'modules', ',', 'functions', ',', 'classes', ',', 'and', 'methods', '.', 'remember', ','], ['.', 'use', 'doc', '##st', '##ring', '##s', 'for', 'all', 'public', 'modules', ',', 'functions', ',', 'classes', ',', 'and', 'methods', '.', 'remember', ',', 'code', 'is', 'read', 'much', 'more', 'often', 'than', 'it', 'is', 'written', '.', 'clarity', 'and', 'read', '##ability', 'are', 'paramount', '!'], ['.', 'clarity', 'and', 'read', '##ability', 'are', 'paramount', '!']]\n",
            "\n",
            "Recursive with Overlap:\n",
            "Number of chunks 13\n",
            "[['pep', '8', ':', 'style', 'guide', 'for', 'python', 'code'], ['this', 'pep', 'describes', 'a', 'style', 'guide', 'for', 'python', 'code', '.', 'its', 'goal', 'is', 'to', 'improve', 'code', 'read', '##ability', 'and', 'consistency', 'across', 'the', 'python', 'community', '.', 'here', 'are', 'some', 'key', 'points', ':'], ['1', '.', 'use', '4', 'spaces', 'per', 'ind', '##entation', 'level', '.'], ['2', '.', 'limit', 'all', 'lines', 'to', 'a', 'maximum', 'of', '79', 'characters', '.'], ['3', '.', 'imports', 'should', 'usually', 'be', 'on', 'separate', 'lines', ':'], ['import', 'os', 'import', 'sy', '##s'], ['4', '.', 'surround', 'top', '-', 'level', 'function', 'and', 'class', 'definitions', 'with', 'two', 'blank', 'lines', '.'], ['def', 'example', '_', 'function', '(', ')', ':', \"'\", \"'\", \"'\", 'this', 'is', 'a', 'doc', '##st', '##ring', '.', \"'\", \"'\", \"'\", 'return', 'none'], ['class', 'example', '##class', ':', \"'\", \"'\", \"'\", 'this', 'is', 'a', 'class', 'doc', '##st', '##ring', '.', \"'\", \"'\", \"'\", 'def', '_', '_', 'in', '##it', '_', '_', '(', 'self', ',', 'value', ')', ':', 'self', '.', 'value', '=', 'value', 'def', 'get', '_', 'value', '(', 'self', ')', ':', 'return', 'self', '.', 'value'], ['5', '.', 'use', 'inline', 'comments', 'spa', '##ring', '##ly', ':'], ['x', '=', 'x', '+', '1', '#', 'compensate', 'for', 'border'], ['6', '.', 'use', 'doc', '##st', '##ring', '##s', 'for', 'all', 'public', 'modules', ',', 'functions', ',', 'classes', ',', 'and', 'methods', '.'], ['remember', ',', 'code', 'is', 'read', 'much', 'more', 'often', 'than', 'it', 'is', 'written', '.', 'clarity', 'and', 'read', '##ability', 'are', 'paramount', '!']]\n",
            "\n",
            "Recursive Python Splitter with Overlap:\n",
            "Number of chunks 7\n",
            "[['pep', '8', ':', 'style', 'guide', 'for', 'python', 'code', 'this', 'pep', 'describes', 'a', 'style', 'guide', 'for', 'python', 'code', '.', 'its', 'goal', 'is', 'to', 'improve', 'code', 'read', '##ability', 'and', 'consistency', 'across', 'the', 'python', 'community', '.', 'here', 'are', 'some', 'key', 'points', ':', '1', '.', 'use', '4', 'spaces', 'per', 'ind', '##entation', 'level', '.', '2'], ['python', 'community', '.', 'here', 'are', 'some', 'key', 'points', ':', '1', '.', 'use', '4', 'spaces', 'per', 'ind', '##entation', 'level', '.', '2', '.', 'limit', 'all', 'lines', 'to', 'a', 'maximum', 'of', '79', 'characters', '.', '3', '.', 'imports', 'should', 'usually', 'be', 'on', 'separate', 'lines', ':', 'import', 'os', 'import', 'sy', '##s', '4', '.', 'surround', 'top'], ['.', '3', '.', 'imports', 'should', 'usually', 'be', 'on', 'separate', 'lines', ':', 'import', 'os', 'import', 'sy', '##s', '4', '.', 'surround', 'top', '-', 'level', 'function', 'and', 'class', 'definitions', 'with', 'two', 'blank', 'lines', '.', 'def', 'example', '_', 'function', '(', ')', ':', \"'\", \"'\", \"'\", 'this', 'is', 'a', 'doc', '##st', '##ring', '.', \"'\", \"'\"], ['.', 'def', 'example', '_', 'function', '(', ')', ':', \"'\", \"'\", \"'\", 'this', 'is', 'a', 'doc', '##st', '##ring', '.', \"'\", \"'\", \"'\", 'return', 'none', 'class', 'example', '##class', ':', \"'\", \"'\", \"'\", 'this', 'is', 'a', 'class', 'doc', '##st', '##ring', '.', \"'\", \"'\", \"'\", 'def', '_', '_', 'in', '##it', '_', '_', '(', 'self'], ['this', 'is', 'a', 'class', 'doc', '##st', '##ring', '.', \"'\", \"'\", \"'\", 'def', '_', '_', 'in', '##it', '_', '_', '(', 'self', ',', 'value', ')', ':', 'self', '.', 'value', '=', 'value', 'def', 'get', '_', 'value', '(', 'self', ')', ':', 'return', 'self', '.', 'value', '5', '.', 'use', 'inline', 'comments', 'spa', '##ring', '##ly', ':'], ['get', '_', 'value', '(', 'self', ')', ':', 'return', 'self', '.', 'value', '5', '.', 'use', 'inline', 'comments', 'spa', '##ring', '##ly', ':', 'x', '=', 'x', '+', '1', '#', 'compensate', 'for', 'border', '6', '.', 'use', 'doc', '##st', '##ring', '##s', 'for', 'all', 'public', 'modules', ',', 'functions', ',', 'classes', ',', 'and', 'methods', '.', 'remember', ','], ['.', 'use', 'doc', '##st', '##ring', '##s', 'for', 'all', 'public', 'modules', ',', 'functions', ',', 'classes', ',', 'and', 'methods', '.', 'remember', ',', 'code', 'is', 'read', 'much', 'more', 'often', 'than', 'it', 'is', 'written', '.', 'clarity', 'and', 'read', '##ability', 'are', 'paramount', '!']]\n"
          ]
        }
      ]
    },
    {
      "cell_type": "code",
      "source": [
        "strategies = [\n",
        "    (\"Fixed Token without Overlap\", fixed_token_without_overlap, False),\n",
        "    (\"Fixed Token with Overlap\", fixed_token_with_overlap, True),\n",
        "    (\"Recursive with Overlap\", recursive_with_overlap, True),\n",
        "    (\"Recursive Python Splitter with Overlap\", recursive_python_splitter_with_overlap, True),\n",
        "    (\"Semantic Chunking\", semantic_chunking, False)\n",
        "]"
      ],
      "metadata": {
        "id": "VTh8S_ldT7eo"
      },
      "execution_count": 99,
      "outputs": []
    },
    {
      "cell_type": "code",
      "source": [
        "# for strategy_name, strategy_func, uses_overlap in strategies:\n",
        "#     print(f\"\\n{strategy_name}:\")\n",
        "#     if strategy_name == \"Semantic Chunking\":\n",
        "#         chunks = strategy_func(text)\n",
        "#     else:\n",
        "#         chunks = strategy_func(text, chunk_size, overlap) if uses_overlap else strategy_func(text, chunk_size)\n",
        "\n",
        "#     for i, chunk in enumerate(chunks):\n",
        "#         if strategy_name == \"Semantic Chunking\":\n",
        "#             print(f\"Chunk {i + 1}: {chunk[:100]}...\")  # Print first 100 characters of each chunk\n",
        "#         else:\n",
        "#             print(f\"Chunk {i + 1}: {tokens_to_string(chunk)[:100]}...\")  # Print first 100 characters of each chunk\n",
        "#     print(f\"Total chunks: {len(chunks)}\")"
      ],
      "metadata": {
        "id": "xvkcBByVSdsJ"
      },
      "execution_count": 121,
      "outputs": []
    },
    {
      "cell_type": "code",
      "source": [
        "for strategy_name, strategy_func, uses_overlap in strategies:\n",
        "    print(\"\\n\" + \"*\" * 60)\n",
        "    print(f\"\\n{strategy_name}:\")\n",
        "    if strategy_name == \"Semantic Chunking\":\n",
        "        chunks = strategy_func(text)\n",
        "    else:\n",
        "        chunks = strategy_func(text, chunk_size, overlap) if uses_overlap else strategy_func(text, chunk_size)\n",
        "\n",
        "    for i, chunk in enumerate(chunks):\n",
        "        if strategy_name == \"Semantic Chunking\":\n",
        "            print(f\"Chunk {i + 1}:\\n{chunk}\\n\")\n",
        "        else:\n",
        "            print(f\"Chunk {i + 1}:\\n{tokens_to_string(chunk)}\\n\")\n",
        "    print(f\"Total chunks: {len(chunks)}\")\n",
        "\n",
        "PEP 8: Style Guide for Python Code\n",
        "\n",
        "This PEP describes a style guide for Python code. Its goal is to improve code readability and consistency across the Python community. Here are some key points:"
      ],
      "metadata": {
        "colab": {
          "base_uri": "https://localhost:8080/"
        },
        "id": "5Cr5YQFTZlh_",
        "outputId": "4b97e6a6-e1fe-4490-d149-c07e3a707edc"
      },
      "execution_count": 120,
      "outputs": [
        {
          "output_type": "stream",
          "name": "stdout",
          "text": [
            "\n",
            "************************************************************\n",
            "\n",
            "Fixed Token without Overlap:\n",
            "Chunk 1:\n",
            "pep 8 : style guide for python code this pep describes a style guide for python code. its goal is to improve code readability and consistency across the python community. here are some key points : 1. use 4 spaces per indentation level. 2\n",
            "\n",
            "Chunk 2:\n",
            ". limit all lines to a maximum of 79 characters. 3. imports should usually be on separate lines : import os import sys 4. surround top - level function and class definitions with two blank lines. def example _ function ( ) : ' '\n",
            "\n",
            "Chunk 3:\n",
            "' this is a docstring. ' ' ' return none class exampleclass : ' ' ' this is a class docstring. ' ' ' def _ _ init _ _ ( self, value ) : self. value = value def\n",
            "\n",
            "Chunk 4:\n",
            "get _ value ( self ) : return self. value 5. use inline comments sparingly : x = x + 1 # compensate for border 6. use docstrings for all public modules, functions, classes, and methods. remember,\n",
            "\n",
            "Chunk 5:\n",
            "code is read much more often than it is written. clarity and readability are paramount!\n",
            "\n",
            "Total chunks: 5\n",
            "\n",
            "************************************************************\n",
            "\n",
            "Fixed Token with Overlap:\n",
            "Chunk 1:\n",
            "pep 8 : style guide for python code this pep describes a style guide for python code. its goal is to improve code readability and consistency across the python community. here are some key points : 1. use 4 spaces per indentation level. 2\n",
            "\n",
            "Chunk 2:\n",
            "python community. here are some key points : 1. use 4 spaces per indentation level. 2. limit all lines to a maximum of 79 characters. 3. imports should usually be on separate lines : import os import sys 4. surround top\n",
            "\n",
            "Chunk 3:\n",
            ". 3. imports should usually be on separate lines : import os import sys 4. surround top - level function and class definitions with two blank lines. def example _ function ( ) : ' ' ' this is a docstring. ' '\n",
            "\n",
            "Chunk 4:\n",
            ". def example _ function ( ) : ' ' ' this is a docstring. ' ' ' return none class exampleclass : ' ' ' this is a class docstring. ' ' ' def _ _ init _ _ ( self\n",
            "\n",
            "Chunk 5:\n",
            "this is a class docstring. ' ' ' def _ _ init _ _ ( self, value ) : self. value = value def get _ value ( self ) : return self. value 5. use inline comments sparingly :\n",
            "\n",
            "Chunk 6:\n",
            "get _ value ( self ) : return self. value 5. use inline comments sparingly : x = x + 1 # compensate for border 6. use docstrings for all public modules, functions, classes, and methods. remember,\n",
            "\n",
            "Chunk 7:\n",
            ". use docstrings for all public modules, functions, classes, and methods. remember, code is read much more often than it is written. clarity and readability are paramount!\n",
            "\n",
            "Chunk 8:\n",
            ". clarity and readability are paramount!\n",
            "\n",
            "Total chunks: 8\n",
            "\n",
            "************************************************************\n",
            "\n",
            "Recursive with Overlap:\n",
            "Chunk 1:\n",
            "pep 8 : style guide for python code\n",
            "\n",
            "Chunk 2:\n",
            "this pep describes a style guide for python code. its goal is to improve code readability and consistency across the python community. here are some key points :\n",
            "\n",
            "Chunk 3:\n",
            "1. use 4 spaces per indentation level.\n",
            "\n",
            "Chunk 4:\n",
            "2. limit all lines to a maximum of 79 characters.\n",
            "\n",
            "Chunk 5:\n",
            "3. imports should usually be on separate lines :\n",
            "\n",
            "Chunk 6:\n",
            "import os import sys\n",
            "\n",
            "Chunk 7:\n",
            "4. surround top - level function and class definitions with two blank lines.\n",
            "\n",
            "Chunk 8:\n",
            "def example _ function ( ) : ' ' ' this is a docstring. ' ' ' return none\n",
            "\n",
            "Chunk 9:\n",
            "class exampleclass : ' ' ' this is a class docstring. ' ' ' def _ _ init _ _ ( self, value ) : self. value = value def get _ value ( self ) : return self. value\n",
            "\n",
            "Chunk 10:\n",
            "5. use inline comments sparingly :\n",
            "\n",
            "Chunk 11:\n",
            "x = x + 1 # compensate for border\n",
            "\n",
            "Chunk 12:\n",
            "6. use docstrings for all public modules, functions, classes, and methods.\n",
            "\n",
            "Chunk 13:\n",
            "remember, code is read much more often than it is written. clarity and readability are paramount!\n",
            "\n",
            "Total chunks: 13\n",
            "\n",
            "************************************************************\n",
            "\n",
            "Recursive Python Splitter with Overlap:\n",
            "Chunk 1:\n",
            "pep 8 : style guide for python code this pep describes a style guide for python code. its goal is to improve code readability and consistency across the python community. here are some key points : 1. use 4 spaces per indentation level. 2\n",
            "\n",
            "Chunk 2:\n",
            "python community. here are some key points : 1. use 4 spaces per indentation level. 2. limit all lines to a maximum of 79 characters. 3. imports should usually be on separate lines : import os import sys 4. surround top\n",
            "\n",
            "Chunk 3:\n",
            ". 3. imports should usually be on separate lines : import os import sys 4. surround top - level function and class definitions with two blank lines. def example _ function ( ) : ' ' ' this is a docstring. ' '\n",
            "\n",
            "Chunk 4:\n",
            ". def example _ function ( ) : ' ' ' this is a docstring. ' ' ' return none class exampleclass : ' ' ' this is a class docstring. ' ' ' def _ _ init _ _ ( self\n",
            "\n",
            "Chunk 5:\n",
            "this is a class docstring. ' ' ' def _ _ init _ _ ( self, value ) : self. value = value def get _ value ( self ) : return self. value 5. use inline comments sparingly :\n",
            "\n",
            "Chunk 6:\n",
            "get _ value ( self ) : return self. value 5. use inline comments sparingly : x = x + 1 # compensate for border 6. use docstrings for all public modules, functions, classes, and methods. remember,\n",
            "\n",
            "Chunk 7:\n",
            ". use docstrings for all public modules, functions, classes, and methods. remember, code is read much more often than it is written. clarity and readability are paramount!\n",
            "\n",
            "Total chunks: 7\n",
            "\n",
            "************************************************************\n",
            "\n",
            "Semantic Chunking:\n",
            "Chunk 1:\n",
            "\n",
            "PEP 8: Style Guide for Python Code\n",
            "\n",
            "This PEP describes a style guide for Python code. Its goal is to improve code readability and consistency across the Python community. Here are some key points:\n",
            "\n",
            "1.\n",
            "\n",
            "Chunk 2:\n",
            "Use 4 spaces per indentation level.\n",
            "\n",
            "2. Limit all lines to a maximum of 79 characters.\n",
            "\n",
            "3. Imports should usually be on separate lines:\n",
            "\n",
            "import os\n",
            "import sys\n",
            "\n",
            "4. Surround top-level function and class definitions with two blank lines.\n",
            "\n",
            "def example_function():\n",
            "    '''This is a docstring.'''\n",
            "    return None\n",
            "\n",
            "class ExampleClass:\n",
            "    '''This is a class docstring.'''\n",
            "    \n",
            "    def __init__(self, value):\n",
            "        self.value = value\n",
            "    \n",
            "    def get_value(self):\n",
            "        return self.value\n",
            "\n",
            "5. Use inline comments sparingly:\n",
            "\n",
            "x = x + 1  # Compensate for border\n",
            "\n",
            "6. Use docstrings for all public modules, functions, classes, and methods.\n",
            "\n",
            "Remember, code is read much more often than it is written.\n",
            "\n",
            "Chunk 3:\n",
            "Clarity and readability are paramount!\n",
            "\n",
            "\n",
            "Total chunks: 3\n"
          ]
        }
      ]
    },
    {
      "cell_type": "code",
      "source": [
        "semantic_chunking_strategy = (\"Semantic Chunking\", semantic_chunking)\n",
        "\n",
        "print(f\"\\n{semantic_chunking_strategy[0]}:\")\n",
        "chunks = semantic_chunking_strategy[1](text)\n",
        "\n",
        "for i, chunk in enumerate(chunks):\n",
        "    print(f\"Chunk {i + 1}:\\n{chunk}\\n\")\n",
        "print(f\"Total chunks: {len(chunks)}\")"
      ],
      "metadata": {
        "colab": {
          "base_uri": "https://localhost:8080/"
        },
        "id": "NjKJTPzQXk5P",
        "outputId": "97e37aaa-6dff-49d0-e41a-4be3e7e772d9"
      },
      "execution_count": 117,
      "outputs": [
        {
          "output_type": "stream",
          "name": "stdout",
          "text": [
            "\n",
            "Semantic Chunking:\n",
            "Chunk 1:\n",
            "\n",
            "PEP 8: Style Guide for Python Code\n",
            "\n",
            "This PEP describes a style guide for Python code. Its goal is to improve code readability and consistency across the Python community. Here are some key points:\n",
            "\n",
            "1.\n",
            "\n",
            "Chunk 2:\n",
            "Use 4 spaces per indentation level.\n",
            "\n",
            "2. Limit all lines to a maximum of 79 characters.\n",
            "\n",
            "3. Imports should usually be on separate lines:\n",
            "\n",
            "import os\n",
            "import sys\n",
            "\n",
            "4. Surround top-level function and class definitions with two blank lines.\n",
            "\n",
            "def example_function():\n",
            "    '''This is a docstring.'''\n",
            "    return None\n",
            "\n",
            "class ExampleClass:\n",
            "    '''This is a class docstring.'''\n",
            "    \n",
            "    def __init__(self, value):\n",
            "        self.value = value\n",
            "    \n",
            "    def get_value(self):\n",
            "        return self.value\n",
            "\n",
            "5. Use inline comments sparingly:\n",
            "\n",
            "x = x + 1  # Compensate for border\n",
            "\n",
            "6. Use docstrings for all public modules, functions, classes, and methods.\n",
            "\n",
            "Remember, code is read much more often than it is written.\n",
            "\n",
            "Chunk 3:\n",
            "Clarity and readability are paramount!\n",
            "\n",
            "\n",
            "Total chunks: 3\n"
          ]
        }
      ]
    }
  ]
}